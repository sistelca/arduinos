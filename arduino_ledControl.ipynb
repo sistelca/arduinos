{
 "cells": [
  {
   "cell_type": "code",
   "execution_count": null,
   "metadata": {},
   "outputs": [],
   "source": [
    "import pyfirmata\n",
    "    \n",
    "puerto = \"/dev/ttyACM0\" #Puerto COM de emulación en USB\n",
    "pin = (13) #PIN donde va conectado el LED\n",
    " \n",
    "#Conexión con placa Arduino\n",
    "print(\"Conectando con Arduino por USB...\")\n",
    "tarjeta = pyfirmata.Arduino(puerto)\n",
    "print(\"Conectado a Arduino por USB...\")\n",
    "while True:\n",
    "    print(\"Encendiendo LED...\")\n",
    "    tarjeta.digital[pin].write(1)\n",
    "    \n",
    "    print(\"Encendido LED...\")\n",
    "    tarjeta.pass_time(20)\n",
    "    print(\"Apagando LED...\")\n",
    "    tarjeta.digital[pin].write(0)\n",
    "    print(\"Apagado LED...\")\n",
    "    tarjeta.pass_time(3)\n",
    "tarjeta.exit()\n"
   ]
  },
  {
   "cell_type": "code",
   "execution_count": null,
   "metadata": {},
   "outputs": [],
   "source": []
  },
  {
   "cell_type": "code",
   "execution_count": 4,
   "metadata": {},
   "outputs": [
    {
     "name": "stdout",
     "output_type": "stream",
     "text": [
      "True\n"
     ]
    }
   ],
   "source": [
    "import subprocess\n",
    "\n",
    "def pingOk(sHost):\n",
    "    try:\n",
    "        output = subprocess.check_output(\"ping -c 1 {}\".format(sHost), shell=True)\n",
    "\n",
    "    except:\n",
    "        return False\n",
    "\n",
    "    return True\n",
    "\n",
    "print(pingOk(\"192.168.66.5\") and pingOk(\"192.168.66.23\"))"
   ]
  }
 ],
 "metadata": {
  "kernelspec": {
   "display_name": "Python 3",
   "language": "python",
   "name": "python3"
  },
  "language_info": {
   "codemirror_mode": {
    "name": "ipython",
    "version": 3
   },
   "file_extension": ".py",
   "mimetype": "text/x-python",
   "name": "python",
   "nbconvert_exporter": "python",
   "pygments_lexer": "ipython3",
   "version": "3.8.5"
  }
 },
 "nbformat": 4,
 "nbformat_minor": 4
}
